{
 "cells": [
  {
   "cell_type": "code",
   "execution_count": 8,
   "metadata": {},
   "outputs": [
    {
     "name": "stdout",
     "output_type": "stream",
     "text": [
      "[[0.]]\n",
      "[[3.60555128]]\n",
      "[[3.16227766]]\n",
      "[[3.74165739]]\n"
     ]
    }
   ],
   "source": [
    "from sklearn.feature_extraction.text import CountVectorizer\n",
    "from sklearn.metrics.pairwise import euclidean_distances\n",
    "\n",
    "corpus=['All my cats in a row',\n",
    "'When my cat sits down, she looks like a furby toy',\n",
    "'The cat from outer space',\n",
    "'Sunshine loves to sit like this for some reason'\n",
    "]\n",
    "\n",
    "vectorizer=CountVectorizer()\n",
    "features=vectorizer.fit_transform(corpus).todense()\n",
    "\n",
    "for f in features:\n",
    "  print(euclidean_distances(features[0],f))"
   ]
  },
  {
   "cell_type": "code",
   "execution_count": null,
   "metadata": {},
   "outputs": [],
   "source": []
  }
 ],
 "metadata": {
  "kernelspec": {
   "display_name": "Python 3",
   "language": "python",
   "name": "python3"
  },
  "language_info": {
   "codemirror_mode": {
    "name": "ipython",
    "version": 3
   },
   "file_extension": ".py",
   "mimetype": "text/x-python",
   "name": "python",
   "nbconvert_exporter": "python",
   "pygments_lexer": "ipython3",
   "version": "3.7.4"
  }
 },
 "nbformat": 4,
 "nbformat_minor": 2
}
